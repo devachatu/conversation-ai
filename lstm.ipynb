{
  "nbformat": 4,
  "nbformat_minor": 0,
  "metadata": {
    "kernelspec": {
      "display_name": "Python 3",
      "language": "python",
      "name": "python3"
    },
    "language_info": {
      "codemirror_mode": {
        "name": "ipython",
        "version": 3
      },
      "file_extension": ".py",
      "mimetype": "text/x-python",
      "name": "python",
      "nbconvert_exporter": "python",
      "pygments_lexer": "ipython3",
      "version": "3.8.3"
    },
    "colab": {
      "name": "lstm.ipynb",
      "provenance": [],
      "collapsed_sections": []
    }
  },
  "cells": [
    {
      "cell_type": "code",
      "metadata": {
        "colab": {
          "base_uri": "https://localhost:8080/"
        },
        "id": "un_srQ_DxYen",
        "outputId": "c0297dd7-0f78-4a41-9389-e011b879e850"
      },
      "source": [
        "  from google.colab import drive\n",
        "drive.mount('/content/drive')"
      ],
      "execution_count": null,
      "outputs": [
        {
          "output_type": "stream",
          "text": [
            "Mounted at /content/drive\n"
          ],
          "name": "stdout"
        }
      ]
    },
    {
      "cell_type": "code",
      "metadata": {
        "id": "RQSOKX3AsB-V",
        "colab": {
          "base_uri": "https://localhost:8080/"
        },
        "outputId": "20ebb1e9-0283-4f49-a451-c99d29db2237"
      },
      "source": [
        "import os\n",
        "import json\n",
        "import nltk\n",
        "import gensim\n",
        "import numpy as np\n",
        "from gensim import corpora, models, similarities\n",
        "from gensim.models import Word2Vec\n",
        "from gensim.test.utils import common_texts\n",
        "import pickle\n",
        "nltk.download('punkt')"
      ],
      "execution_count": null,
      "outputs": [
        {
          "output_type": "stream",
          "text": [
            "[nltk_data] Downloading package punkt to /root/nltk_data...\n",
            "[nltk_data]   Unzipping tokenizers/punkt.zip.\n"
          ],
          "name": "stdout"
        },
        {
          "output_type": "execute_result",
          "data": {
            "text/plain": [
              "True"
            ]
          },
          "metadata": {
            "tags": []
          },
          "execution_count": 2
        }
      ]
    },
    {
      "cell_type": "code",
      "metadata": {
        "id": "FOX0jHpmD6dZ"
      },
      "source": [
        "model = gensim.models.Word2Vec.load('/content/drive/MyDrive/lstm/word2vec.bin');\r\n",
        "file=open('/content/drive/MyDrive/lstm/dataset.json');\r\n",
        "data = json.load(file)"
      ],
      "execution_count": null,
      "outputs": []
    },
    {
      "cell_type": "code",
      "metadata": {
        "id": "wihFkbrUsB-W"
      },
      "source": [
        "cor=data;\n",
        "x=[]\n",
        "y=[]\n",
        "for i in range(500):\n",
        "    for j in range(len(cor[i])):\n",
        "        if j<len(cor[i])-1:\n",
        "            x.append(cor[i][j]);\n",
        "            y.append(cor[i][j+1]);\n",
        "\n",
        "tok_x=[]\n",
        "tok_y=[]\n",
        "for i in range(len(x)): \n",
        "    print(\"loop-1: \"+str(i))\n",
        "    tok_x.append(nltk.word_tokenize(x[i].lower()))\n",
        "    tok_y.append(nltk.word_tokenize(y[i].lower()))\n",
        "    \n",
        "    \n",
        "\n"
      ],
      "execution_count": null,
      "outputs": []
    },
    {
      "cell_type": "code",
      "metadata": {
        "id": "W-8Wb972sB-h"
      },
      "source": [
        "sentend=np.ones((300,),dtype=np.float32) \n",
        "\n",
        "vec_x=[]\n",
        "i=0\n",
        "for sent in tok_x:\n",
        "    i=i+1\n",
        "    print(\"loop-2: \"+str(i))\n",
        "    sentvec = [model[w] for w in sent if w in model.wv.vocab]\n",
        "    vec_x.append(sentvec)\n",
        "    \n",
        "vec_y=[]\n",
        "for sent in tok_y:\n",
        "    i=i+1\n",
        "    print(\"loop-3: \"+str(i))\n",
        "    sentvec = [model[w] for w in sent if w in model.wv.vocab]\n",
        "    vec_y.append(sentvec)           \n",
        "    \n",
        "    \n",
        "for tok_sent in vec_x:\n",
        "    i=i+1\n",
        "    print(\"loop-4: \"+str(i))\n",
        "    tok_sent[99:]=[]\n",
        "    tok_sent.append(sentend)\n",
        "    \n",
        "\n",
        "for tok_sent in vec_x:\n",
        "    i=i+1\n",
        "    print(\"loop-5: \"+str(i))\n",
        "    if len(tok_sent)<100:\n",
        "        for i in range(100-len(tok_sent)):\n",
        "            tok_sent.append(sentend)    \n",
        "            \n",
        "for tok_sent in vec_y:\n",
        "    i=i+1\n",
        "    print(\"loop-6: \"+str(i))\n",
        "    tok_sent[99:]=[]\n",
        "    tok_sent.append(sentend)\n",
        "    \n",
        "\n",
        "for tok_sent in vec_y:\n",
        "    i=i+1\n",
        "    print(\"loop-7: \"+str(i))\n",
        "    if len(tok_sent)<100:\n",
        "        for i in range(100-len(tok_sent)):\n",
        "            tok_sent.append(sentend)             \n",
        "            \n",
        "            \n",
        "with open('conversation.pickle','wb') as f:\n",
        "    pickle.dump([vec_x,vec_y],f)     "
      ],
      "execution_count": null,
      "outputs": []
    },
    {
      "cell_type": "code",
      "metadata": {
        "id": "bk6F9xf6sB-t"
      },
      "source": [
        "with open('/content/drive/MyDrive/lstm/conversations.pickle','wb') as f:\n",
        "    pickle.dump([vec_x,vec_y],f)   "
      ],
      "execution_count": null,
      "outputs": []
    },
    {
      "cell_type": "code",
      "metadata": {
        "id": "2MSLeUrosB-u"
      },
      "source": [
        "!pip install theano"
      ],
      "execution_count": null,
      "outputs": []
    },
    {
      "cell_type": "code",
      "metadata": {
        "id": "6wYzRxCpsB-u"
      },
      "source": [
        "import os\n",
        "import pickle\n",
        "import numpy as np\n",
        "from keras.models import Sequential\n",
        "import gensim\n",
        "from keras.layers.recurrent import LSTM,SimpleRNN\n",
        "from sklearn.model_selection import train_test_split\n",
        "import theano\n",
        "theano.config.optimizer=\"None\"\n",
        "\n",
        "with open('/content/drive/MyDrive/lstm/conversations.pickle','rb') as f:\n",
        "    vec_x,vec_y=pickle.load(f)\n",
        "#     print(pickle.load(f))"
      ],
      "execution_count": null,
      "outputs": []
    },
    {
      "cell_type": "code",
      "metadata": {
        "id": "JKfsryZWsB-u",
        "colab": {
          "base_uri": "https://localhost:8080/",
          "height": 1000
        },
        "outputId": "9cde2186-7016-4e27-845b-c32ab5e43314"
      },
      "source": [
        "vec_x=np.array(vec_x,dtype=np.float64)\n",
        "vec_y=np.array(vec_y,dtype=np.float64)    \n",
        "\n",
        "x_train,x_test, y_train,y_test = train_test_split(vec_x, vec_y, test_size=0.2, random_state=1)\n",
        "print(\"a\")\n",
        "model=Sequential()\n",
        "model.add(LSTM(300,input_shape=x_train.shape[1:],return_sequences=True, kernel_initializer='glorot_normal', recurrent_initializer='glorot_normal', activation='sigmoid'))\n",
        "model.add(LSTM(300,input_shape=x_train.shape[1:],return_sequences=True, kernel_initializer='glorot_normal', recurrent_initializer='glorot_normal', activation='sigmoid'))\n",
        "model.add(LSTM(300,input_shape=x_train.shape[1:],return_sequences=True, kernel_initializer='glorot_normal', recurrent_initializer='glorot_normal', activation='sigmoid'))\n",
        "model.add(LSTM(300,input_shape=x_train.shape[1:],return_sequences=True, kernel_initializer='glorot_normal', recurrent_initializer='glorot_normal', activation='sigmoid'))\n",
        "model.compile(loss='cosine_similarity', optimizer='adam', metrics=['accuracy'])\n",
        "print(\"b\")\n",
        "model.fit(x_train, y_train, epochs=100,validation_data=(x_test, y_test))\n",
        "model.save('LSTM100.h5');\n",
        "model.fit(x_train, y_train, epochs=100,validation_data=(x_test, y_test))\n",
        "model.save('LSTM200.h5');\n",
        "model.fit(x_train, y_train, epochs=100,validation_data=(x_test, y_test))\n",
        "model.save('LSTM300.h5');\n",
        "model.fit(x_train, y_train, epochs=100,validation_data=(x_test, y_test))\n",
        "model.save('LSTM400.h5');\n",
        "model.fit(x_train, y_train, epochs=100,validation_data=(x_test, y_test))\n",
        "model.save('LSTM500.h5');\n",
        "# model.fit(x_train, y_train, epochs=500,validation_data=(x_test, y_test))\n",
        "# model.save('LSTM1000.h5');\n",
        "# model.fit(x_train, y_train, epochs=500,validation_data=(x_test, y_test))\n",
        "# model.save('LSTM1500.h5');\n",
        "# model.fit(x_train, y_train, epochs=500,validation_data=(x_test, y_test))\n",
        "# model.save('LSTM2000.h5');\n",
        "# model.fit(x_train, y_train, epochs=500,validation_data=(x_test, y_test))\n",
        "# model.save('LSTM2500.h5');\n",
        "# model.fit(x_train, y_train, epochs=500,validation_data=(x_test, y_test))\n",
        "# model.save('LSTM3000.h5');\n",
        "# model.fit(x_train, y_train, epochs=500,validation_data=(x_test, y_test))\n",
        "# model.save('LSTM3500.h5');\n",
        "# model.fit(x_train, y_train, epochs=500,validation_data=(x_test, y_test))\n",
        "# model.save('LSTM4000.h5');\n",
        "# model.fit(x_train, y_train, epochs=500,validation_data=(x_test, y_test))\n",
        "# model.save('LSTM4500.h5');\n",
        "# model.fit(x_train, y_train, epochs=500,validation_data=(x_test, y_test))\n",
        "# model.save('LSTM5000.h5');          \n",
        "predictions=model.predict(x_test) \n",
        "mod = gensim.models.Word2Vec.load('word2vec.bin');   \n",
        "[mod.most_similar([predictions[10][i]])[0] for i in range(15)]"
      ],
      "execution_count": null,
      "outputs": [
        {
          "output_type": "stream",
          "text": [
            "a\n",
            "b\n",
            "Epoch 1/100\n",
            "44/44 [==============================] - 103s 2s/step - loss: -0.8545 - accuracy: 0.0079 - val_loss: -0.8839 - val_accuracy: 0.0073\n",
            "Epoch 2/100\n",
            "44/44 [==============================] - 99s 2s/step - loss: -0.8828 - accuracy: 0.0072 - val_loss: -0.8909 - val_accuracy: 0.0081\n",
            "Epoch 3/100\n",
            "44/44 [==============================] - 98s 2s/step - loss: -0.8912 - accuracy: 0.0084 - val_loss: -0.8920 - val_accuracy: 0.0080\n",
            "Epoch 4/100\n",
            "44/44 [==============================] - 98s 2s/step - loss: -0.8910 - accuracy: 0.0084 - val_loss: -0.8929 - val_accuracy: 0.0085\n",
            "Epoch 5/100\n",
            "44/44 [==============================] - 105s 2s/step - loss: -0.8892 - accuracy: 0.0087 - val_loss: -0.8944 - val_accuracy: 0.0084\n",
            "Epoch 6/100\n",
            "44/44 [==============================] - 100s 2s/step - loss: -0.8918 - accuracy: 0.0087 - val_loss: -0.8991 - val_accuracy: 0.0097\n",
            "Epoch 7/100\n",
            "44/44 [==============================] - 100s 2s/step - loss: -0.8973 - accuracy: 0.0108 - val_loss: -0.8979 - val_accuracy: 0.0090\n",
            "Epoch 8/100\n",
            "44/44 [==============================] - 101s 2s/step - loss: -0.8955 - accuracy: 0.0091 - val_loss: -0.8994 - val_accuracy: 0.0086\n",
            "Epoch 9/100\n",
            "44/44 [==============================] - 100s 2s/step - loss: -0.8986 - accuracy: 0.0078 - val_loss: -0.8986 - val_accuracy: 0.0083\n",
            "Epoch 10/100\n",
            "44/44 [==============================] - 100s 2s/step - loss: -0.8953 - accuracy: 0.0083 - val_loss: -0.8995 - val_accuracy: 0.0085\n",
            "Epoch 11/100\n",
            "44/44 [==============================] - 100s 2s/step - loss: -0.8970 - accuracy: 0.0306 - val_loss: -0.8983 - val_accuracy: 0.0599\n",
            "Epoch 12/100\n",
            "44/44 [==============================] - 99s 2s/step - loss: -0.8953 - accuracy: 0.0197 - val_loss: -0.8995 - val_accuracy: 0.0084\n",
            "Epoch 13/100\n",
            "44/44 [==============================] - 97s 2s/step - loss: -0.8954 - accuracy: 0.0077 - val_loss: -0.8995 - val_accuracy: 0.0084\n",
            "Epoch 14/100\n",
            "44/44 [==============================] - 98s 2s/step - loss: -0.8987 - accuracy: 0.0678 - val_loss: -0.8996 - val_accuracy: 0.0080\n",
            "Epoch 15/100\n",
            "44/44 [==============================] - 98s 2s/step - loss: -0.8954 - accuracy: 0.0140 - val_loss: -0.8991 - val_accuracy: 0.0079\n",
            "Epoch 16/100\n",
            "44/44 [==============================] - 98s 2s/step - loss: -0.8981 - accuracy: 0.0162 - val_loss: -0.8995 - val_accuracy: 0.0082\n",
            "Epoch 17/100\n",
            "44/44 [==============================] - 98s 2s/step - loss: -0.8971 - accuracy: 0.0117 - val_loss: -0.8994 - val_accuracy: 0.0085\n",
            "Epoch 18/100\n",
            "44/44 [==============================] - 100s 2s/step - loss: -0.8970 - accuracy: 0.0088 - val_loss: -0.8996 - val_accuracy: 0.0081\n",
            "Epoch 19/100\n",
            "44/44 [==============================] - 99s 2s/step - loss: -0.8988 - accuracy: 0.0415 - val_loss: -0.8987 - val_accuracy: 0.0076\n",
            "Epoch 20/100\n",
            "44/44 [==============================] - 100s 2s/step - loss: -0.8978 - accuracy: 0.0105 - val_loss: -0.8996 - val_accuracy: 0.0078\n",
            "Epoch 21/100\n",
            "44/44 [==============================] - 101s 2s/step - loss: -0.8996 - accuracy: 0.0149 - val_loss: -0.8993 - val_accuracy: 0.0079\n",
            "Epoch 22/100\n",
            "44/44 [==============================] - 99s 2s/step - loss: -0.8965 - accuracy: 0.0078 - val_loss: -0.8993 - val_accuracy: 0.0075\n",
            "Epoch 23/100\n",
            "44/44 [==============================] - 98s 2s/step - loss: -0.8980 - accuracy: 0.0078 - val_loss: -0.8989 - val_accuracy: 0.0076\n",
            "Epoch 24/100\n",
            "44/44 [==============================] - 98s 2s/step - loss: -0.8965 - accuracy: 0.0079 - val_loss: -0.8979 - val_accuracy: 0.0099\n",
            "Epoch 25/100\n",
            "44/44 [==============================] - 97s 2s/step - loss: -0.8982 - accuracy: 0.0084 - val_loss: -0.8990 - val_accuracy: 0.0083\n",
            "Epoch 26/100\n",
            "44/44 [==============================] - 97s 2s/step - loss: -0.8940 - accuracy: 0.0086 - val_loss: -0.8989 - val_accuracy: 0.0091\n",
            "Epoch 27/100\n",
            "44/44 [==============================] - 98s 2s/step - loss: -0.8960 - accuracy: 0.0084 - val_loss: -0.8992 - val_accuracy: 0.0083\n",
            "Epoch 28/100\n",
            "44/44 [==============================] - 98s 2s/step - loss: -0.8987 - accuracy: 0.0074 - val_loss: -0.8991 - val_accuracy: 0.0082\n",
            "Epoch 29/100\n",
            "44/44 [==============================] - 98s 2s/step - loss: -0.9007 - accuracy: 0.0078 - val_loss: -0.8991 - val_accuracy: 0.0089\n",
            "Epoch 30/100\n",
            "44/44 [==============================] - 98s 2s/step - loss: -0.8984 - accuracy: 0.0081 - val_loss: -0.8993 - val_accuracy: 0.0182\n",
            "Epoch 31/100\n",
            "44/44 [==============================] - 99s 2s/step - loss: -0.8989 - accuracy: 0.0091 - val_loss: -0.8990 - val_accuracy: 0.0077\n",
            "Epoch 32/100\n",
            "44/44 [==============================] - 98s 2s/step - loss: -0.8981 - accuracy: 0.0080 - val_loss: -0.8985 - val_accuracy: 0.0085\n",
            "Epoch 33/100\n",
            "44/44 [==============================] - 98s 2s/step - loss: -0.9003 - accuracy: 0.0081 - val_loss: -0.8975 - val_accuracy: 0.0086\n",
            "Epoch 34/100\n",
            "44/44 [==============================] - 99s 2s/step - loss: -0.9000 - accuracy: 0.0082 - val_loss: -0.8990 - val_accuracy: 0.0085\n",
            "Epoch 35/100\n",
            "44/44 [==============================] - 99s 2s/step - loss: -0.8981 - accuracy: 0.0198 - val_loss: -0.8988 - val_accuracy: 0.0077\n",
            "Epoch 36/100\n",
            "44/44 [==============================] - 98s 2s/step - loss: -0.8997 - accuracy: 0.0079 - val_loss: -0.8990 - val_accuracy: 0.0093\n",
            "Epoch 37/100\n",
            "44/44 [==============================] - 99s 2s/step - loss: -0.8971 - accuracy: 0.0081 - val_loss: -0.8989 - val_accuracy: 0.0082\n",
            "Epoch 38/100\n",
            "44/44 [==============================] - 98s 2s/step - loss: -0.8996 - accuracy: 0.0086 - val_loss: -0.8985 - val_accuracy: 0.0086\n",
            "Epoch 39/100\n",
            "44/44 [==============================] - 99s 2s/step - loss: -0.9016 - accuracy: 0.0081 - val_loss: -0.8982 - val_accuracy: 0.0083\n",
            "Epoch 40/100\n",
            "44/44 [==============================] - 100s 2s/step - loss: -0.8990 - accuracy: 0.0081 - val_loss: -0.8984 - val_accuracy: 0.0090\n",
            "Epoch 41/100\n",
            "44/44 [==============================] - 99s 2s/step - loss: -0.8948 - accuracy: 0.0083 - val_loss: -0.8989 - val_accuracy: 0.0083\n",
            "Epoch 42/100\n",
            "44/44 [==============================] - 98s 2s/step - loss: -0.9023 - accuracy: 0.0079 - val_loss: -0.8992 - val_accuracy: 0.0082\n",
            "Epoch 43/100\n",
            "44/44 [==============================] - 98s 2s/step - loss: -0.8999 - accuracy: 0.0080 - val_loss: -0.8973 - val_accuracy: 0.0087\n",
            "Epoch 44/100\n",
            "44/44 [==============================] - 99s 2s/step - loss: -0.8991 - accuracy: 0.0088 - val_loss: -0.8977 - val_accuracy: 0.0079\n",
            "Epoch 45/100\n",
            "44/44 [==============================] - 98s 2s/step - loss: -0.9002 - accuracy: 0.0084 - val_loss: -0.8983 - val_accuracy: 0.0079\n",
            "Epoch 46/100\n",
            "44/44 [==============================] - 99s 2s/step - loss: -0.8993 - accuracy: 0.0084 - val_loss: -0.8985 - val_accuracy: 0.0080\n",
            "Epoch 47/100\n",
            "44/44 [==============================] - 99s 2s/step - loss: -0.8976 - accuracy: 0.0080 - val_loss: -0.8990 - val_accuracy: 0.0078\n",
            "Epoch 48/100\n",
            "44/44 [==============================] - 98s 2s/step - loss: -0.9003 - accuracy: 0.0080 - val_loss: -0.8975 - val_accuracy: 0.0076\n",
            "Epoch 49/100\n",
            "44/44 [==============================] - 99s 2s/step - loss: -0.8986 - accuracy: 0.0078 - val_loss: -0.8971 - val_accuracy: 0.0083\n",
            "Epoch 50/100\n",
            "44/44 [==============================] - 99s 2s/step - loss: -0.8994 - accuracy: 0.0084 - val_loss: -0.8969 - val_accuracy: 0.0089\n",
            "Epoch 51/100\n",
            "44/44 [==============================] - 101s 2s/step - loss: -0.8978 - accuracy: 0.0086 - val_loss: -0.8986 - val_accuracy: 0.0091\n",
            "Epoch 52/100\n",
            "44/44 [==============================] - 101s 2s/step - loss: -0.8989 - accuracy: 0.0082 - val_loss: -0.8987 - val_accuracy: 0.0076\n",
            "Epoch 53/100\n",
            "44/44 [==============================] - 101s 2s/step - loss: -0.8989 - accuracy: 0.0084 - val_loss: -0.8983 - val_accuracy: 0.0080\n",
            "Epoch 54/100\n",
            "44/44 [==============================] - 99s 2s/step - loss: -0.8982 - accuracy: 0.0082 - val_loss: -0.8978 - val_accuracy: 0.0078\n",
            "Epoch 55/100\n",
            "44/44 [==============================] - 100s 2s/step - loss: -0.8987 - accuracy: 0.0078 - val_loss: -0.8980 - val_accuracy: 0.0081\n",
            "Epoch 56/100\n",
            "44/44 [==============================] - 99s 2s/step - loss: -0.8985 - accuracy: 0.0083 - val_loss: -0.8978 - val_accuracy: 0.0076\n",
            "Epoch 57/100\n",
            "44/44 [==============================] - 99s 2s/step - loss: -0.9016 - accuracy: 0.0071 - val_loss: -0.8987 - val_accuracy: 0.0077\n",
            "Epoch 58/100\n",
            "44/44 [==============================] - 99s 2s/step - loss: -0.9024 - accuracy: 0.0077 - val_loss: -0.8986 - val_accuracy: 0.0079\n",
            "Epoch 59/100\n",
            "44/44 [==============================] - 99s 2s/step - loss: -0.9001 - accuracy: 0.0082 - val_loss: -0.8976 - val_accuracy: 0.0080\n",
            "Epoch 60/100\n",
            "44/44 [==============================] - 100s 2s/step - loss: -0.9007 - accuracy: 0.0076 - val_loss: -0.8978 - val_accuracy: 0.0085\n",
            "Epoch 61/100\n",
            "44/44 [==============================] - 99s 2s/step - loss: -0.8998 - accuracy: 0.0078 - val_loss: -0.8976 - val_accuracy: 0.0080\n",
            "Epoch 62/100\n",
            "44/44 [==============================] - 99s 2s/step - loss: -0.9023 - accuracy: 0.0080 - val_loss: -0.8976 - val_accuracy: 0.0082\n",
            "Epoch 63/100\n",
            "44/44 [==============================] - 100s 2s/step - loss: -0.9003 - accuracy: 0.0078 - val_loss: -0.8983 - val_accuracy: 0.0074\n",
            "Epoch 64/100\n",
            "44/44 [==============================] - 99s 2s/step - loss: -0.9024 - accuracy: 0.0083 - val_loss: -0.8975 - val_accuracy: 0.0079\n",
            "Epoch 65/100\n",
            "44/44 [==============================] - 99s 2s/step - loss: -0.9007 - accuracy: 0.0081 - val_loss: -0.8982 - val_accuracy: 0.0080\n",
            "Epoch 66/100\n",
            "44/44 [==============================] - 99s 2s/step - loss: -0.9025 - accuracy: 0.0080 - val_loss: -0.8975 - val_accuracy: 0.0086\n",
            "Epoch 67/100\n",
            "44/44 [==============================] - 98s 2s/step - loss: -0.9011 - accuracy: 0.0080 - val_loss: -0.8971 - val_accuracy: 0.0088\n",
            "Epoch 68/100\n",
            "44/44 [==============================] - 98s 2s/step - loss: -0.9013 - accuracy: 0.0083 - val_loss: -0.8968 - val_accuracy: 0.0074\n",
            "Epoch 69/100\n",
            "44/44 [==============================] - 98s 2s/step - loss: -0.9014 - accuracy: 0.0077 - val_loss: -0.8980 - val_accuracy: 0.0077\n",
            "Epoch 70/100\n",
            "44/44 [==============================] - 99s 2s/step - loss: -0.9011 - accuracy: 0.0083 - val_loss: -0.8960 - val_accuracy: 0.0078\n",
            "Epoch 71/100\n",
            "44/44 [==============================] - 98s 2s/step - loss: -0.9008 - accuracy: 0.0087 - val_loss: -0.8963 - val_accuracy: 0.0080\n",
            "Epoch 72/100\n",
            "44/44 [==============================] - 99s 2s/step - loss: -0.9004 - accuracy: 0.0080 - val_loss: -0.8974 - val_accuracy: 0.0073\n",
            "Epoch 73/100\n",
            "44/44 [==============================] - 100s 2s/step - loss: -0.9012 - accuracy: 0.0080 - val_loss: -0.8976 - val_accuracy: 0.0076\n",
            "Epoch 74/100\n",
            "44/44 [==============================] - 99s 2s/step - loss: -0.8984 - accuracy: 0.0080 - val_loss: -0.8980 - val_accuracy: 0.0082\n",
            "Epoch 75/100\n",
            "44/44 [==============================] - 106s 2s/step - loss: -0.9006 - accuracy: 0.0077 - val_loss: -0.8971 - val_accuracy: 0.0084\n",
            "Epoch 76/100\n",
            "44/44 [==============================] - 100s 2s/step - loss: -0.9033 - accuracy: 0.0081 - val_loss: -0.8969 - val_accuracy: 0.0079\n",
            "Epoch 77/100\n",
            "44/44 [==============================] - 101s 2s/step - loss: -0.9005 - accuracy: 0.0082 - val_loss: -0.8971 - val_accuracy: 0.0083\n",
            "Epoch 78/100\n",
            "44/44 [==============================] - 101s 2s/step - loss: -0.9015 - accuracy: 0.0079 - val_loss: -0.8966 - val_accuracy: 0.0082\n",
            "Epoch 79/100\n",
            "44/44 [==============================] - 102s 2s/step - loss: -0.9013 - accuracy: 0.0077 - val_loss: -0.8974 - val_accuracy: 0.0081\n",
            "Epoch 80/100\n",
            " 8/44 [====>.........................] - ETA: 1:18 - loss: -0.9054 - accuracy: 0.0180"
          ],
          "name": "stdout"
        },
        {
          "output_type": "error",
          "ename": "KeyboardInterrupt",
          "evalue": "ignored",
          "traceback": [
            "\u001b[0;31m---------------------------------------------------------------------------\u001b[0m",
            "\u001b[0;31mKeyboardInterrupt\u001b[0m                         Traceback (most recent call last)",
            "\u001b[0;32m<ipython-input-9-8f49a564aa27>\u001b[0m in \u001b[0;36m<module>\u001b[0;34m()\u001b[0m\n\u001b[1;32m     11\u001b[0m \u001b[0mmodel\u001b[0m\u001b[0;34m.\u001b[0m\u001b[0mcompile\u001b[0m\u001b[0;34m(\u001b[0m\u001b[0mloss\u001b[0m\u001b[0;34m=\u001b[0m\u001b[0;34m'cosine_similarity'\u001b[0m\u001b[0;34m,\u001b[0m \u001b[0moptimizer\u001b[0m\u001b[0;34m=\u001b[0m\u001b[0;34m'adam'\u001b[0m\u001b[0;34m,\u001b[0m \u001b[0mmetrics\u001b[0m\u001b[0;34m=\u001b[0m\u001b[0;34m[\u001b[0m\u001b[0;34m'accuracy'\u001b[0m\u001b[0;34m]\u001b[0m\u001b[0;34m)\u001b[0m\u001b[0;34m\u001b[0m\u001b[0;34m\u001b[0m\u001b[0m\n\u001b[1;32m     12\u001b[0m \u001b[0mprint\u001b[0m\u001b[0;34m(\u001b[0m\u001b[0;34m\"b\"\u001b[0m\u001b[0;34m)\u001b[0m\u001b[0;34m\u001b[0m\u001b[0;34m\u001b[0m\u001b[0m\n\u001b[0;32m---> 13\u001b[0;31m \u001b[0mmodel\u001b[0m\u001b[0;34m.\u001b[0m\u001b[0mfit\u001b[0m\u001b[0;34m(\u001b[0m\u001b[0mx_train\u001b[0m\u001b[0;34m,\u001b[0m \u001b[0my_train\u001b[0m\u001b[0;34m,\u001b[0m \u001b[0mepochs\u001b[0m\u001b[0;34m=\u001b[0m\u001b[0;36m100\u001b[0m\u001b[0;34m,\u001b[0m\u001b[0mvalidation_data\u001b[0m\u001b[0;34m=\u001b[0m\u001b[0;34m(\u001b[0m\u001b[0mx_test\u001b[0m\u001b[0;34m,\u001b[0m \u001b[0my_test\u001b[0m\u001b[0;34m)\u001b[0m\u001b[0;34m)\u001b[0m\u001b[0;34m\u001b[0m\u001b[0;34m\u001b[0m\u001b[0m\n\u001b[0m\u001b[1;32m     14\u001b[0m \u001b[0mmodel\u001b[0m\u001b[0;34m.\u001b[0m\u001b[0msave\u001b[0m\u001b[0;34m(\u001b[0m\u001b[0;34m'LSTM100.h5'\u001b[0m\u001b[0;34m)\u001b[0m\u001b[0;34m;\u001b[0m\u001b[0;34m\u001b[0m\u001b[0;34m\u001b[0m\u001b[0m\n\u001b[1;32m     15\u001b[0m \u001b[0mmodel\u001b[0m\u001b[0;34m.\u001b[0m\u001b[0mfit\u001b[0m\u001b[0;34m(\u001b[0m\u001b[0mx_train\u001b[0m\u001b[0;34m,\u001b[0m \u001b[0my_train\u001b[0m\u001b[0;34m,\u001b[0m \u001b[0mepochs\u001b[0m\u001b[0;34m=\u001b[0m\u001b[0;36m100\u001b[0m\u001b[0;34m,\u001b[0m\u001b[0mvalidation_data\u001b[0m\u001b[0;34m=\u001b[0m\u001b[0;34m(\u001b[0m\u001b[0mx_test\u001b[0m\u001b[0;34m,\u001b[0m \u001b[0my_test\u001b[0m\u001b[0;34m)\u001b[0m\u001b[0;34m)\u001b[0m\u001b[0;34m\u001b[0m\u001b[0;34m\u001b[0m\u001b[0m\n",
            "\u001b[0;32m/usr/local/lib/python3.6/dist-packages/tensorflow/python/keras/engine/training.py\u001b[0m in \u001b[0;36mfit\u001b[0;34m(self, x, y, batch_size, epochs, verbose, callbacks, validation_split, validation_data, shuffle, class_weight, sample_weight, initial_epoch, steps_per_epoch, validation_steps, validation_batch_size, validation_freq, max_queue_size, workers, use_multiprocessing)\u001b[0m\n\u001b[1;32m   1098\u001b[0m                 _r=1):\n\u001b[1;32m   1099\u001b[0m               \u001b[0mcallbacks\u001b[0m\u001b[0;34m.\u001b[0m\u001b[0mon_train_batch_begin\u001b[0m\u001b[0;34m(\u001b[0m\u001b[0mstep\u001b[0m\u001b[0;34m)\u001b[0m\u001b[0;34m\u001b[0m\u001b[0;34m\u001b[0m\u001b[0m\n\u001b[0;32m-> 1100\u001b[0;31m               \u001b[0mtmp_logs\u001b[0m \u001b[0;34m=\u001b[0m \u001b[0mself\u001b[0m\u001b[0;34m.\u001b[0m\u001b[0mtrain_function\u001b[0m\u001b[0;34m(\u001b[0m\u001b[0miterator\u001b[0m\u001b[0;34m)\u001b[0m\u001b[0;34m\u001b[0m\u001b[0;34m\u001b[0m\u001b[0m\n\u001b[0m\u001b[1;32m   1101\u001b[0m               \u001b[0;32mif\u001b[0m \u001b[0mdata_handler\u001b[0m\u001b[0;34m.\u001b[0m\u001b[0mshould_sync\u001b[0m\u001b[0;34m:\u001b[0m\u001b[0;34m\u001b[0m\u001b[0;34m\u001b[0m\u001b[0m\n\u001b[1;32m   1102\u001b[0m                 \u001b[0mcontext\u001b[0m\u001b[0;34m.\u001b[0m\u001b[0masync_wait\u001b[0m\u001b[0;34m(\u001b[0m\u001b[0;34m)\u001b[0m\u001b[0;34m\u001b[0m\u001b[0;34m\u001b[0m\u001b[0m\n",
            "\u001b[0;32m/usr/local/lib/python3.6/dist-packages/tensorflow/python/eager/def_function.py\u001b[0m in \u001b[0;36m__call__\u001b[0;34m(self, *args, **kwds)\u001b[0m\n\u001b[1;32m    826\u001b[0m     \u001b[0mtracing_count\u001b[0m \u001b[0;34m=\u001b[0m \u001b[0mself\u001b[0m\u001b[0;34m.\u001b[0m\u001b[0mexperimental_get_tracing_count\u001b[0m\u001b[0;34m(\u001b[0m\u001b[0;34m)\u001b[0m\u001b[0;34m\u001b[0m\u001b[0;34m\u001b[0m\u001b[0m\n\u001b[1;32m    827\u001b[0m     \u001b[0;32mwith\u001b[0m \u001b[0mtrace\u001b[0m\u001b[0;34m.\u001b[0m\u001b[0mTrace\u001b[0m\u001b[0;34m(\u001b[0m\u001b[0mself\u001b[0m\u001b[0;34m.\u001b[0m\u001b[0m_name\u001b[0m\u001b[0;34m)\u001b[0m \u001b[0;32mas\u001b[0m \u001b[0mtm\u001b[0m\u001b[0;34m:\u001b[0m\u001b[0;34m\u001b[0m\u001b[0;34m\u001b[0m\u001b[0m\n\u001b[0;32m--> 828\u001b[0;31m       \u001b[0mresult\u001b[0m \u001b[0;34m=\u001b[0m \u001b[0mself\u001b[0m\u001b[0;34m.\u001b[0m\u001b[0m_call\u001b[0m\u001b[0;34m(\u001b[0m\u001b[0;34m*\u001b[0m\u001b[0margs\u001b[0m\u001b[0;34m,\u001b[0m \u001b[0;34m**\u001b[0m\u001b[0mkwds\u001b[0m\u001b[0;34m)\u001b[0m\u001b[0;34m\u001b[0m\u001b[0;34m\u001b[0m\u001b[0m\n\u001b[0m\u001b[1;32m    829\u001b[0m       \u001b[0mcompiler\u001b[0m \u001b[0;34m=\u001b[0m \u001b[0;34m\"xla\"\u001b[0m \u001b[0;32mif\u001b[0m \u001b[0mself\u001b[0m\u001b[0;34m.\u001b[0m\u001b[0m_experimental_compile\u001b[0m \u001b[0;32melse\u001b[0m \u001b[0;34m\"nonXla\"\u001b[0m\u001b[0;34m\u001b[0m\u001b[0;34m\u001b[0m\u001b[0m\n\u001b[1;32m    830\u001b[0m       \u001b[0mnew_tracing_count\u001b[0m \u001b[0;34m=\u001b[0m \u001b[0mself\u001b[0m\u001b[0;34m.\u001b[0m\u001b[0mexperimental_get_tracing_count\u001b[0m\u001b[0;34m(\u001b[0m\u001b[0;34m)\u001b[0m\u001b[0;34m\u001b[0m\u001b[0;34m\u001b[0m\u001b[0m\n",
            "\u001b[0;32m/usr/local/lib/python3.6/dist-packages/tensorflow/python/eager/def_function.py\u001b[0m in \u001b[0;36m_call\u001b[0;34m(self, *args, **kwds)\u001b[0m\n\u001b[1;32m    853\u001b[0m       \u001b[0;31m# In this case we have created variables on the first call, so we run the\u001b[0m\u001b[0;34m\u001b[0m\u001b[0;34m\u001b[0m\u001b[0;34m\u001b[0m\u001b[0m\n\u001b[1;32m    854\u001b[0m       \u001b[0;31m# defunned version which is guaranteed to never create variables.\u001b[0m\u001b[0;34m\u001b[0m\u001b[0;34m\u001b[0m\u001b[0;34m\u001b[0m\u001b[0m\n\u001b[0;32m--> 855\u001b[0;31m       \u001b[0;32mreturn\u001b[0m \u001b[0mself\u001b[0m\u001b[0;34m.\u001b[0m\u001b[0m_stateless_fn\u001b[0m\u001b[0;34m(\u001b[0m\u001b[0;34m*\u001b[0m\u001b[0margs\u001b[0m\u001b[0;34m,\u001b[0m \u001b[0;34m**\u001b[0m\u001b[0mkwds\u001b[0m\u001b[0;34m)\u001b[0m  \u001b[0;31m# pylint: disable=not-callable\u001b[0m\u001b[0;34m\u001b[0m\u001b[0;34m\u001b[0m\u001b[0m\n\u001b[0m\u001b[1;32m    856\u001b[0m     \u001b[0;32melif\u001b[0m \u001b[0mself\u001b[0m\u001b[0;34m.\u001b[0m\u001b[0m_stateful_fn\u001b[0m \u001b[0;32mis\u001b[0m \u001b[0;32mnot\u001b[0m \u001b[0;32mNone\u001b[0m\u001b[0;34m:\u001b[0m\u001b[0;34m\u001b[0m\u001b[0;34m\u001b[0m\u001b[0m\n\u001b[1;32m    857\u001b[0m       \u001b[0;31m# Release the lock early so that multiple threads can perform the call\u001b[0m\u001b[0;34m\u001b[0m\u001b[0;34m\u001b[0m\u001b[0;34m\u001b[0m\u001b[0m\n",
            "\u001b[0;32m/usr/local/lib/python3.6/dist-packages/tensorflow/python/eager/function.py\u001b[0m in \u001b[0;36m__call__\u001b[0;34m(self, *args, **kwargs)\u001b[0m\n\u001b[1;32m   2941\u001b[0m        filtered_flat_args) = self._maybe_define_function(args, kwargs)\n\u001b[1;32m   2942\u001b[0m     return graph_function._call_flat(\n\u001b[0;32m-> 2943\u001b[0;31m         filtered_flat_args, captured_inputs=graph_function.captured_inputs)  # pylint: disable=protected-access\n\u001b[0m\u001b[1;32m   2944\u001b[0m \u001b[0;34m\u001b[0m\u001b[0m\n\u001b[1;32m   2945\u001b[0m   \u001b[0;34m@\u001b[0m\u001b[0mproperty\u001b[0m\u001b[0;34m\u001b[0m\u001b[0;34m\u001b[0m\u001b[0m\n",
            "\u001b[0;32m/usr/local/lib/python3.6/dist-packages/tensorflow/python/eager/function.py\u001b[0m in \u001b[0;36m_call_flat\u001b[0;34m(self, args, captured_inputs, cancellation_manager)\u001b[0m\n\u001b[1;32m   1917\u001b[0m       \u001b[0;31m# No tape is watching; skip to running the function.\u001b[0m\u001b[0;34m\u001b[0m\u001b[0;34m\u001b[0m\u001b[0;34m\u001b[0m\u001b[0m\n\u001b[1;32m   1918\u001b[0m       return self._build_call_outputs(self._inference_function.call(\n\u001b[0;32m-> 1919\u001b[0;31m           ctx, args, cancellation_manager=cancellation_manager))\n\u001b[0m\u001b[1;32m   1920\u001b[0m     forward_backward = self._select_forward_and_backward_functions(\n\u001b[1;32m   1921\u001b[0m         \u001b[0margs\u001b[0m\u001b[0;34m,\u001b[0m\u001b[0;34m\u001b[0m\u001b[0;34m\u001b[0m\u001b[0m\n",
            "\u001b[0;32m/usr/local/lib/python3.6/dist-packages/tensorflow/python/eager/function.py\u001b[0m in \u001b[0;36mcall\u001b[0;34m(self, ctx, args, cancellation_manager)\u001b[0m\n\u001b[1;32m    558\u001b[0m               \u001b[0minputs\u001b[0m\u001b[0;34m=\u001b[0m\u001b[0margs\u001b[0m\u001b[0;34m,\u001b[0m\u001b[0;34m\u001b[0m\u001b[0;34m\u001b[0m\u001b[0m\n\u001b[1;32m    559\u001b[0m               \u001b[0mattrs\u001b[0m\u001b[0;34m=\u001b[0m\u001b[0mattrs\u001b[0m\u001b[0;34m,\u001b[0m\u001b[0;34m\u001b[0m\u001b[0;34m\u001b[0m\u001b[0m\n\u001b[0;32m--> 560\u001b[0;31m               ctx=ctx)\n\u001b[0m\u001b[1;32m    561\u001b[0m         \u001b[0;32melse\u001b[0m\u001b[0;34m:\u001b[0m\u001b[0;34m\u001b[0m\u001b[0;34m\u001b[0m\u001b[0m\n\u001b[1;32m    562\u001b[0m           outputs = execute.execute_with_cancellation(\n",
            "\u001b[0;32m/usr/local/lib/python3.6/dist-packages/tensorflow/python/eager/execute.py\u001b[0m in \u001b[0;36mquick_execute\u001b[0;34m(op_name, num_outputs, inputs, attrs, ctx, name)\u001b[0m\n\u001b[1;32m     58\u001b[0m     \u001b[0mctx\u001b[0m\u001b[0;34m.\u001b[0m\u001b[0mensure_initialized\u001b[0m\u001b[0;34m(\u001b[0m\u001b[0;34m)\u001b[0m\u001b[0;34m\u001b[0m\u001b[0;34m\u001b[0m\u001b[0m\n\u001b[1;32m     59\u001b[0m     tensors = pywrap_tfe.TFE_Py_Execute(ctx._handle, device_name, op_name,\n\u001b[0;32m---> 60\u001b[0;31m                                         inputs, attrs, num_outputs)\n\u001b[0m\u001b[1;32m     61\u001b[0m   \u001b[0;32mexcept\u001b[0m \u001b[0mcore\u001b[0m\u001b[0;34m.\u001b[0m\u001b[0m_NotOkStatusException\u001b[0m \u001b[0;32mas\u001b[0m \u001b[0me\u001b[0m\u001b[0;34m:\u001b[0m\u001b[0;34m\u001b[0m\u001b[0;34m\u001b[0m\u001b[0m\n\u001b[1;32m     62\u001b[0m     \u001b[0;32mif\u001b[0m \u001b[0mname\u001b[0m \u001b[0;32mis\u001b[0m \u001b[0;32mnot\u001b[0m \u001b[0;32mNone\u001b[0m\u001b[0;34m:\u001b[0m\u001b[0;34m\u001b[0m\u001b[0;34m\u001b[0m\u001b[0m\n",
            "\u001b[0;31mKeyboardInterrupt\u001b[0m: "
          ]
        }
      ]
    },
    {
      "cell_type": "code",
      "metadata": {
        "id": "hPAyfuz5yBaH",
        "colab": {
          "base_uri": "https://localhost:8080/"
        },
        "outputId": "3326cac9-cba1-4d6d-e130-b6fa3abad2aa"
      },
      "source": [
        "import os\r\n",
        "from scipy import spatial\r\n",
        "import numpy as np\r\n",
        "import gensim\r\n",
        "import nltk\r\n",
        "from keras.models import load_model\r\n",
        "\r\n",
        "\r\n",
        "import theano\r\n",
        "theano.config.optimizer=\"None\"\r\n",
        "\r\n",
        "\r\n",
        "model=load_model('/content/drive/MyDrive/lstm/LSTM100.h5')\r\n",
        "mod = gensim.models.Word2Vec.load('/content/drive/MyDrive/lstm/word2vec.bin');\r\n",
        "while(True):\r\n",
        "    x=input(\"Enter the message:\");\r\n",
        "    sentend=np.ones((300,),dtype=np.float32) \r\n",
        "\r\n",
        "    sent=nltk.word_tokenize(x.lower())\r\n",
        "    sentvec = [mod[w] for w in sent if w in mod.wv.vocab]\r\n",
        "\r\n",
        "    sentvec[14:]=[]\r\n",
        "    sentvec.append(sentend)\r\n",
        "    if len(sentvec)<15:\r\n",
        "        for i in range(15-len(sentvec)):\r\n",
        "            sentvec.append(sentend) \r\n",
        "    sentvec=np.array([sentvec])\r\n",
        "    \r\n",
        "    predictions = model.predict(sentvec)\r\n",
        "    outputlist=[mod.most_similar([predictions[0][i]])[0][0] for i in range(15)]\r\n",
        "    output=' '.join(outputlist)\r\n",
        "    print(output)"
      ],
      "execution_count": null,
      "outputs": [
        {
          "output_type": "stream",
          "text": [
            "Enter the message:hi\n",
            "WARNING:tensorflow:Model was constructed with shape (None, 100, 300) for input KerasTensor(type_spec=TensorSpec(shape=(None, 100, 300), dtype=tf.float32, name='lstm_input'), name='lstm_input', description=\"created by layer 'lstm_input'\"), but it was called on an input with incompatible shape (None, 15, 300).\n"
          ],
          "name": "stdout"
        },
        {
          "output_type": "stream",
          "text": [
            "/usr/local/lib/python3.6/dist-packages/ipykernel_launcher.py:20: DeprecationWarning: Call to deprecated `__getitem__` (Method will be removed in 4.0.0, use self.wv.__getitem__() instead).\n",
            "/usr/local/lib/python3.6/dist-packages/ipykernel_launcher.py:30: DeprecationWarning: Call to deprecated `most_similar` (Method will be removed in 4.0.0, use self.wv.most_similar() instead).\n"
          ],
          "name": "stderr"
        },
        {
          "output_type": "stream",
          "text": [
            "know n't n't n't n't n't n't n't n't n't n't n't n't karluah karluah\n"
          ],
          "name": "stdout"
        }
      ]
    },
    {
      "cell_type": "code",
      "metadata": {
        "id": "jg3iXrcZYfvt"
      },
      "source": [
        ""
      ],
      "execution_count": null,
      "outputs": []
    }
  ]
}